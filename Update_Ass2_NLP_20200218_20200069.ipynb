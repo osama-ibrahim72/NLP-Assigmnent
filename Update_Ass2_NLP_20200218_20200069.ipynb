{
  "cells": [
    {
      "cell_type": "code",
      "source": [
        "from nltk.tokenize import word_tokenize\n",
        "from nltk.corpus import stopwords\n",
        "from nltk.stem import WordNetLemmatizer\n",
        "from bs4 import BeautifulSoup\n",
        "import re\n",
        "import math\n",
        "from collections import Counter\n",
        "import nltk\n"
      ],
      "metadata": {
        "id": "o7Oh3gPbNl3r"
      },
      "execution_count": 86,
      "outputs": []
    },
    {
      "cell_type": "code",
      "source": [
        "nltk.download('wordnet')\n",
        "nltk.download('stopwords')\n",
        "nltk.download('punkt')"
      ],
      "metadata": {
        "id": "0wMoDfcSlhsh",
        "outputId": "3207b9cf-b280-4636-ae2a-d6339355a9a7",
        "colab": {
          "base_uri": "https://localhost:8080/"
        }
      },
      "execution_count": 87,
      "outputs": [
        {
          "output_type": "stream",
          "name": "stderr",
          "text": [
            "[nltk_data] Downloading package wordnet to /root/nltk_data...\n",
            "[nltk_data]   Package wordnet is already up-to-date!\n",
            "[nltk_data] Downloading package stopwords to /root/nltk_data...\n",
            "[nltk_data]   Package stopwords is already up-to-date!\n",
            "[nltk_data] Downloading package punkt to /root/nltk_data...\n",
            "[nltk_data]   Package punkt is already up-to-date!\n"
          ]
        },
        {
          "output_type": "execute_result",
          "data": {
            "text/plain": [
              "True"
            ]
          },
          "metadata": {},
          "execution_count": 87
        }
      ]
    },
    {
      "cell_type": "code",
      "source": [
        "!pip install faker"
      ],
      "metadata": {
        "colab": {
          "base_uri": "https://localhost:8080/"
        },
        "id": "fknZaWvKjEXD",
        "outputId": "e8b663a4-cd00-4d0f-9be7-1364eb9d7b47"
      },
      "execution_count": 88,
      "outputs": [
        {
          "output_type": "stream",
          "name": "stdout",
          "text": [
            "Requirement already satisfied: faker in /usr/local/lib/python3.10/dist-packages (24.3.0)\n",
            "Requirement already satisfied: python-dateutil>=2.4 in /usr/local/lib/python3.10/dist-packages (from faker) (2.8.2)\n",
            "Requirement already satisfied: six>=1.5 in /usr/local/lib/python3.10/dist-packages (from python-dateutil>=2.4->faker) (1.16.0)\n"
          ]
        }
      ]
    },
    {
      "cell_type": "code",
      "source": [
        "\n",
        "# Preprocessing function to clean and normalize text\n",
        "def preprocess_and_normalize(text):\n",
        "    # Remove HTML tags and CSS styles\n",
        "    soup = BeautifulSoup(text, 'html.parser')\n",
        "    clean_content = soup.get_text()\n",
        "    clean_content = re.sub(r'<style.*?</style>', '', clean_content, flags=re.DOTALL)\n",
        "    clean_content = re.sub(r'<link.*?>', '', clean_content, flags=re.DOTALL)\n",
        "\n",
        "    # Convert text to lowercase\n",
        "    text = clean_content.lower()\n",
        "    # Remove punctuation\n",
        "    text = re.sub(r'[^\\w\\s]', '', text)\n",
        "    # Tokenize the text into words\n",
        "    tokens = word_tokenize(text)\n",
        "    # Remove stopwords\n",
        "    stop_words = set(stopwords.words('english'))\n",
        "    filtered_tokens = [word for word in tokens if word not in stop_words]\n",
        "    # Lemmatize words\n",
        "    lemmatizer = WordNetLemmatizer()\n",
        "    lemmatized_tokens = [lemmatizer.lemmatize(word) for word in filtered_tokens]\n",
        "    # Return preprocessed text as a single string\n",
        "    return ' '.join(lemmatized_tokens)\n"
      ],
      "metadata": {
        "id": "FONfB6FHNl0I"
      },
      "execution_count": 89,
      "outputs": []
    },
    {
      "cell_type": "code",
      "source": [
        "from faker import Faker\n",
        "\n",
        "fake = Faker()\n",
        "\n",
        "def generate_player_document(player_name, custom_word_list):\n",
        "    document = f\"Player Profile: {player_name}\\n\\n\"\n",
        "    document += f\"Name: {player_name}\\n\"\n",
        "    document += f\"Nationality: {'Brazilian' if player_name == 'Neymar' else 'Argentinian' if player_name == 'Messi' else 'Portuguese'}\\n\"\n",
        "    document += f\"Date of Birth: {fake.date_of_birth(minimum_age=18, maximum_age=40).strftime('%Y-%m-%d')}\\n\"\n",
        "    document += f\"Place of Birth: {'Mogi das Cruzes, São Paulo, Brazil' if player_name == 'Neymar' else 'Rosario, Santa Fe, Argentina' if player_name == 'Messi' else 'Funchal, Madeira, Portugal'}\\n\"\n",
        "    document += f\"Height: {fake.random_int(min=170, max=180)} cm\\n\"\n",
        "    document += f\"Weight: {fake.random_int(min=60, max=75)} kg\\n\"\n",
        "    document += f\"Current Club: {'Paris Saint-Germain (PSG)' if player_name == 'Neymar' or player_name == 'Messi' else 'Manchester United'}\\n\"\n",
        "    document += f\"Position: Forward\\n\"\n",
        "    document += f\"Preferred Foot: {'Left' if fake.boolean() else 'Right'}\\n\"\n",
        "    document += f\"Market Value: {'€128 million' if player_name == 'Neymar' else '€100 million' if player_name == 'Messi' else '€110 million'}\\n\"\n",
        "    document += \"Biography:\\n\"\n",
        "    document += fake.paragraph(nb_sentences=60, variable_nb_sentences=True, ext_word_list=custom_word_list)\n",
        "    return document\n"
      ],
      "metadata": {
        "id": "3bCHDWZ2h_Vc"
      },
      "execution_count": 102,
      "outputs": []
    },
    {
      "cell_type": "code",
      "source": [
        "players = [\"Neymar\", \"Messi\", \"Ronaldo\"]\n",
        "documents = []\n",
        "#Custom word lists for each player\n",
        "neymar_word_list = [\"Neymar\", \"Brazil\",\"sport\", \"football\", \"soccer\", \"PSG\", \"Barcelona\", \"goal\",\"player\",\"hellal\"]\n",
        "messi_word_list = [\"Messi\", \"Argentina\", \"football\", \"soccer\", \"Barcelona\",\"sport\", \"goal\",\"good\",\"best\",\"hero\"]\n",
        "ronaldo_word_list = [\"Ronaldo\", \"Portugal\", \"football\", \"soccer\", \"Manchester United\",\"sport\", \"Real Madrid\", \"goal\"]\n",
        "\n",
        "# Generate documents for players\n",
        "for player in players:\n",
        "    if player=='Neymar':\n",
        "      document = generate_player_document(player,neymar_word_list)\n",
        "      documents.append(document)\n",
        "    elif player=='Messi':\n",
        "      document = generate_player_document(player,messi_word_list)\n",
        "      documents.append(document)\n",
        "    else :\n",
        "      document = generate_player_document(player,ronaldo_word_list)\n",
        "      documents.append(document)\n"
      ],
      "metadata": {
        "id": "3cnlZrSziRrf"
      },
      "execution_count": 103,
      "outputs": []
    },
    {
      "cell_type": "code",
      "source": [
        "# Print all documents\n",
        "for i, document in enumerate(documents, 1):\n",
        "    print(f\"Document {i}:\\n{document}\\n{'='*50}\\n\")"
      ],
      "metadata": {
        "colab": {
          "base_uri": "https://localhost:8080/"
        },
        "id": "z4YiGS3MibUy",
        "outputId": "85bb068d-c8d3-4ccf-b4d0-d9d41fb82197"
      },
      "execution_count": 104,
      "outputs": [
        {
          "output_type": "stream",
          "name": "stdout",
          "text": [
            "Document 1:\n",
            "Player Profile: Neymar\n",
            "\n",
            "Name: Neymar\n",
            "Nationality: Brazilian\n",
            "Date of Birth: 1993-07-01\n",
            "Place of Birth: Mogi das Cruzes, São Paulo, Brazil\n",
            "Height: 174 cm\n",
            "Weight: 64 kg\n",
            "Current Club: Paris Saint-Germain (PSG)\n",
            "Position: Forward\n",
            "Preferred Foot: Right\n",
            "Market Value: €128 million\n",
            "Biography:\n",
            "Neymar hellal player Neymar Neymar. Brazil goal player Neymar. Neymar goal player PSG. Hellal football PSG soccer Brazil goal player. Sport football Brazil. Soccer Neymar Barcelona player sport. Soccer Neymar soccer player player. Barcelona sport goal PSG. Neymar Brazil goal football goal. Player football player Neymar football soccer. Sport PSG Brazil Brazil player goal goal. Barcelona Barcelona soccer Neymar soccer sport PSG. Brazil sport Barcelona Barcelona football PSG player. Goal football Brazil goal. Hellal Brazil soccer goal football Neymar. Sport PSG Neymar PSG sport soccer. Barcelona hellal PSG hellal Neymar sport. Hellal goal soccer Brazil goal PSG. Player player Brazil player. Goal PSG player. Football sport soccer sport Barcelona. Football sport goal goal football football Barcelona. Player goal soccer Brazil goal. Goal PSG football football Barcelona PSG football Barcelona. Player Brazil Brazil hellal soccer. Soccer Brazil hellal. Psg PSG PSG soccer Brazil goal. Hellal Brazil soccer. Psg player football soccer football. Soccer hellal goal hellal sport player Neymar. Goal goal Barcelona sport. Football goal football soccer. Psg PSG goal sport sport Neymar. Soccer soccer hellal sport PSG Barcelona. Barcelona sport hellal football football goal. Neymar Barcelona PSG Barcelona player Barcelona football. Brazil Neymar Barcelona soccer Neymar. Barcelona sport Brazil PSG sport Neymar sport soccer. Football football player soccer. Football player sport Neymar hellal Neymar. Goal Neymar Neymar hellal PSG player Barcelona. Brazil player soccer Brazil soccer. Brazil Neymar Neymar sport goal football Brazil. Brazil sport sport Neymar Brazil sport. Sport Brazil soccer football. Brazil player hellal Neymar football. Player player soccer PSG soccer. Goal football goal Brazil. Football Brazil hellal sport sport Barcelona. Brazil hellal Neymar sport. Sport goal PSG football. Psg hellal hellal soccer Neymar player hellal Barcelona. Soccer Brazil PSG soccer. Football PSG player. Goal PSG hellal hellal goal Barcelona Neymar. Hellal player soccer hellal. Sport sport football Brazil Barcelona Brazil soccer goal. Soccer PSG Brazil PSG soccer player PSG.\n",
            "==================================================\n",
            "\n",
            "Document 2:\n",
            "Player Profile: Messi\n",
            "\n",
            "Name: Messi\n",
            "Nationality: Argentinian\n",
            "Date of Birth: 1989-03-13\n",
            "Place of Birth: Rosario, Santa Fe, Argentina\n",
            "Height: 176 cm\n",
            "Weight: 62 kg\n",
            "Current Club: Paris Saint-Germain (PSG)\n",
            "Position: Forward\n",
            "Preferred Foot: Left\n",
            "Market Value: €100 million\n",
            "Biography:\n",
            "Sport football soccer Barcelona hero good football. Argentina goal goal Messi sport soccer goal. Best Barcelona goal. Best Barcelona best soccer Argentina. Barcelona football hero sport Barcelona. Goal goal Barcelona good good Argentina sport. Hero sport best soccer Argentina. Best sport Argentina Argentina soccer goal. Football Argentina Barcelona Barcelona. Goal Barcelona goal. Messi hero Barcelona. Messi good sport best Messi sport soccer. Best hero hero sport Messi Messi Barcelona soccer. Goal soccer sport Messi. Sport best Barcelona hero sport Barcelona football sport. Football good sport football soccer good good. Good goal best hero. Argentina best good Argentina hero Barcelona Argentina. Goal Barcelona Argentina. Argentina soccer Argentina goal Barcelona. Argentina good Argentina. Best sport soccer Barcelona good. Best Barcelona Argentina goal. Sport sport football. Argentina sport sport sport hero football. Argentina hero sport Messi football good Messi. Football good goal good football goal. Barcelona Barcelona Argentina Barcelona best. Best Barcelona hero football sport good. Sport Messi football Barcelona. Soccer hero football sport Messi hero goal Barcelona. Best goal football. Sport hero sport Messi. Messi sport football football soccer Barcelona sport hero. Argentina good hero Messi sport hero. Good best football. Soccer good soccer Messi Barcelona soccer good. Barcelona Barcelona football Argentina football good sport. Barcelona Barcelona sport good Barcelona Argentina. Hero football soccer Barcelona. Sport Argentina Barcelona football. Football football Argentina hero good football hero. Goal Messi sport hero Messi. Goal best best Argentina Argentina sport. Barcelona Messi goal goal. Argentina sport soccer Messi goal. Soccer Argentina soccer sport best Messi. Good best hero goal soccer good. Soccer Barcelona Messi Argentina Messi hero soccer. Sport hero Barcelona Barcelona soccer sport Argentina Barcelona. Best soccer best football soccer. Goal hero sport best. Messi Messi football sport. Football Messi Messi soccer. Barcelona best sport Barcelona hero soccer hero. Sport Barcelona sport football. Best football good Messi Argentina. Football sport sport soccer best Barcelona. Messi soccer Barcelona Barcelona football sport soccer Argentina. Sport good hero best. Barcelona Messi goal Argentina football soccer football.\n",
            "==================================================\n",
            "\n",
            "Document 3:\n",
            "Player Profile: Ronaldo\n",
            "\n",
            "Name: Ronaldo\n",
            "Nationality: Portuguese\n",
            "Date of Birth: 1984-05-16\n",
            "Place of Birth: Funchal, Madeira, Portugal\n",
            "Height: 174 cm\n",
            "Weight: 63 kg\n",
            "Current Club: Manchester United\n",
            "Position: Forward\n",
            "Preferred Foot: Right\n",
            "Market Value: €110 million\n",
            "Biography:\n",
            "Goal Portugal sport soccer football soccer. Soccer Real Madrid football Manchester United. Soccer football Manchester United sport soccer. Real Madrid football Manchester United sport Ronaldo sport Manchester United Manchester United. Manchester United Real Madrid sport soccer. Real Madrid soccer sport sport Portugal. Sport goal sport Portugal Real Madrid goal Portugal football. Sport sport football sport Ronaldo football Portugal. Manchester United Real Madrid Portugal Ronaldo. Football Real Madrid football. Ronaldo Ronaldo Ronaldo Manchester United sport football Manchester United. Soccer sport sport Portugal. Ronaldo football Real Madrid Ronaldo. Manchester United goal sport sport Real Madrid Portugal Real Madrid. Goal Manchester United goal soccer Manchester United sport sport. Soccer Real Madrid Ronaldo Ronaldo Ronaldo. Portugal sport Manchester United Real Madrid Portugal Portugal. Goal Ronaldo goal Portugal Real Madrid. Manchester United Real Madrid Ronaldo football Portugal Ronaldo Real Madrid. Manchester United soccer Portugal. Real Madrid Portugal football goal Ronaldo goal Manchester United. Manchester United Ronaldo Portugal goal Real Madrid soccer Manchester United. Real Madrid sport Ronaldo Ronaldo Ronaldo. Soccer Manchester United soccer Ronaldo Ronaldo Ronaldo goal Real Madrid. Portugal Real Madrid football goal goal. Soccer Manchester United sport. Portugal goal soccer Manchester United football football. Portugal goal goal. Ronaldo soccer Manchester United sport football. Ronaldo Manchester United goal soccer football. Goal Manchester United Real Madrid soccer soccer. Sport football football football football football goal soccer. Real Madrid sport soccer sport sport. Sport Ronaldo sport soccer football Manchester United football. Ronaldo goal Ronaldo football soccer Ronaldo. Soccer soccer soccer Real Madrid. Ronaldo Real Madrid sport football sport. Portugal Real Madrid Ronaldo Manchester United. Manchester United Ronaldo Manchester United Ronaldo Manchester United football. Manchester United Portugal Real Madrid Real Madrid football Portugal. Portugal Real Madrid soccer football Portugal Manchester United. Football Real Madrid sport sport Real Madrid Manchester United soccer. Portugal goal Real Madrid Real Madrid Real Madrid. Sport Real Madrid football sport. Sport sport Ronaldo football soccer soccer. Soccer Ronaldo sport football Manchester United sport. Ronaldo sport Portugal Ronaldo football soccer Ronaldo. Football Portugal football football Real Madrid goal. Soccer Manchester United soccer Real Madrid. Real Madrid Manchester United Real Madrid goal. Manchester United Ronaldo Real Madrid football Ronaldo Manchester United Ronaldo. Football Portugal Real Madrid soccer Real Madrid Portugal. Soccer Ronaldo Real Madrid Ronaldo Portugal Real Madrid soccer. Sport Manchester United Manchester United soccer football Manchester United. Goal football Ronaldo goal Real Madrid goal goal. Manchester United goal Manchester United Real Madrid Manchester United. Sport sport football Portugal football Real Madrid goal sport. Manchester United soccer soccer goal Ronaldo. Goal Manchester United soccer goal soccer goal. Ronaldo sport sport soccer Manchester United football. Goal football Manchester United soccer Portugal. Manchester United soccer Portugal Portugal soccer goal goal. Real Madrid football Real Madrid goal football Ronaldo. Sport Manchester United Real Madrid soccer Ronaldo Manchester United. Soccer Ronaldo sport sport Manchester United Ronaldo Manchester United. Portugal goal Portugal goal soccer soccer. Goal sport Portugal Ronaldo Real Madrid goal. Soccer football Ronaldo goal Manchester United football soccer soccer. Real Madrid football Manchester United goal Manchester United. Goal Manchester United Manchester United Ronaldo Ronaldo. Portugal Manchester United football Portugal. Portugal Ronaldo Portugal Portugal Portugal Ronaldo Manchester United. Football Real Madrid sport. Soccer Portugal Real Madrid Manchester United Manchester United. Ronaldo Ronaldo Ronaldo Manchester United sport goal.\n",
            "==================================================\n",
            "\n"
          ]
        }
      ]
    },
    {
      "cell_type": "code",
      "source": [
        "# Preprocess the documents\n",
        "preprocessed_documents = [preprocess_and_normalize(doc) for doc in documents]\n"
      ],
      "metadata": {
        "id": "Ampr1bRlNluo"
      },
      "execution_count": 93,
      "outputs": []
    },
    {
      "cell_type": "code",
      "source": [
        "# Extract unique words from all documents\n",
        "unique_words = set()\n",
        "for doc in preprocessed_documents:\n",
        "    unique_words.update(doc.split())\n",
        "\n",
        "# Print unique words extracted from the documents\n",
        "print(\"Unique Words:\")\n",
        "print(unique_words)\n",
        "print('Number Of Unique Words : ', len(unique_words))"
      ],
      "metadata": {
        "colab": {
          "base_uri": "https://localhost:8080/"
        },
        "id": "SSysWC5wNkaO",
        "outputId": "1811c8c1-5cb5-4e16-9f1e-e7afd3a1fdba"
      },
      "execution_count": 94,
      "outputs": [
        {
          "output_type": "stream",
          "name": "stdout",
          "text": [
            "Unique Words:\n",
            "{'madrid', 'madeira', 'portuguese', 'portugal', 'paulo', 'barcelona', 'current', 'manchester', 'place', 'left', '172', 'brazil', 'million', 'argentinian', 'paris', 'ronaldo', 'argentina', 'goal', 'brazilian', 'cruzes', 'fe', 'preferred', '19870614', 'mogi', 'rosario', 'da', '75', 'club', 'hellal', 'good', 'profile', 'cm', '19830517', 'position', 'hero', '19990711', 'psg', '175', 'value', 'name', 'birth', 'right', 'weight', 'market', 'biography', 'são', 'best', 'united', 'nationality', 'height', '128', 'sport', 'messi', 'neymar', 'santa', 'forward', 'football', '100', 'real', 'player', 'kg', 'funchal', '110', 'saintgermain', 'soccer', 'date', 'foot'}\n",
            "Number Of Unique Words :  67\n"
          ]
        }
      ]
    },
    {
      "cell_type": "code",
      "source": [
        "# Calculate TF-IDF using built-in functions (TfidfVectorizer from scikit-learn)\n",
        "from sklearn.feature_extraction.text import TfidfVectorizer\n",
        "\n",
        "# Initialize the TfidfVectorizer\n",
        "tfidf_vectorizer = TfidfVectorizer()\n",
        "\n",
        "# Fit and transform the preprocessed documents to obtain the TF-IDF matrix\n",
        "tfidf_matrix = tfidf_vectorizer.fit_transform(preprocessed_documents)\n",
        "\n",
        "# Get the feature names (unique words) from the TfidfVectorizer\n",
        "feature_names = tfidf_vectorizer.get_feature_names_out()\n",
        "\n",
        "# Print the shape of the feature names array and the TF-IDF matrix\n",
        "print('Shape of Feature Names:', feature_names.shape)\n",
        "print('Shape of TF_IDF Matrix:', tfidf_matrix.shape)\n",
        "\n",
        "# Print TF-IDF using built-in functions\n",
        "print(\"\\nTF-IDF using built-in functions:\")\n",
        "print(\"Feature Names:\", feature_names)\n",
        "print(\"TF-IDF Matrix:\\n\", tfidf_matrix.toarray())\n"
      ],
      "metadata": {
        "colab": {
          "base_uri": "https://localhost:8080/"
        },
        "id": "Kxk1GpViNkW5",
        "outputId": "c4511ba3-4e92-4a7d-be96-239afafe6fa8"
      },
      "execution_count": 95,
      "outputs": [
        {
          "output_type": "stream",
          "name": "stdout",
          "text": [
            "Shape of Feature Names: (67,)\n",
            "Shape of TF_IDF Matrix: (3, 67)\n",
            "\n",
            "TF-IDF using built-in functions:\n",
            "Feature Names: ['100' '110' '128' '172' '175' '19830517' '19870614' '19990711' '75'\n",
            " 'argentina' 'argentinian' 'barcelona' 'best' 'biography' 'birth' 'brazil'\n",
            " 'brazilian' 'club' 'cm' 'cruzes' 'current' 'da' 'date' 'fe' 'foot'\n",
            " 'football' 'forward' 'funchal' 'goal' 'good' 'height' 'hellal' 'hero'\n",
            " 'kg' 'left' 'madeira' 'madrid' 'manchester' 'market' 'messi' 'million'\n",
            " 'mogi' 'name' 'nationality' 'neymar' 'paris' 'paulo' 'place' 'player'\n",
            " 'portugal' 'portuguese' 'position' 'preferred' 'profile' 'psg' 'real'\n",
            " 'right' 'ronaldo' 'rosario' 'saintgermain' 'santa' 'soccer' 'sport' 'são'\n",
            " 'united' 'value' 'weight']\n",
            "TF-IDF Matrix:\n",
            " [[0.         0.         0.02043954 0.         0.0155448  0.\n",
            "  0.02043954 0.         0.01207192 0.         0.         0.20208237\n",
            "  0.         0.01207192 0.02414384 0.42923036 0.02043954 0.01207192\n",
            "  0.01207192 0.02043954 0.01207192 0.02043954 0.01207192 0.\n",
            "  0.01207192 0.39837343 0.01207192 0.         0.2172946  0.\n",
            "  0.01207192 0.38835128 0.         0.01207192 0.         0.\n",
            "  0.         0.         0.01207192 0.         0.01207192 0.02043954\n",
            "  0.01207192 0.01207192 0.3474722  0.0155448  0.02043954 0.01207192\n",
            "  0.24143844 0.         0.         0.01207192 0.01207192 0.01207192\n",
            "  0.34198555 0.         0.0155448  0.         0.         0.0155448\n",
            "  0.         0.27765421 0.19315076 0.02043954 0.         0.01207192\n",
            "  0.01207192]\n",
            " [0.01766859 0.         0.         0.         0.01343742 0.01766859\n",
            "  0.         0.         0.01043536 0.47705205 0.01766859 0.30906069\n",
            "  0.42404626 0.01043536 0.02087071 0.         0.         0.01043536\n",
            "  0.01043536 0.         0.01043536 0.         0.01043536 0.01766859\n",
            "  0.01043536 0.20870713 0.01043536 0.         0.27131927 0.33570329\n",
            "  0.01043536 0.         0.3003661  0.01043536 0.         0.\n",
            "  0.         0.         0.01043536 0.28269751 0.01043536 0.\n",
            "  0.01043536 0.01043536 0.         0.01343742 0.         0.01043536\n",
            "  0.01043536 0.         0.         0.01043536 0.01043536 0.01043536\n",
            "  0.01343742 0.         0.01343742 0.         0.01766859 0.01343742\n",
            "  0.01766859 0.21914249 0.20870713 0.         0.         0.01043536\n",
            "  0.01043536]\n",
            " [0.         0.01249612 0.         0.01249612 0.         0.\n",
            "  0.         0.01249612 0.00738041 0.         0.         0.\n",
            "  0.         0.00738041 0.01476082 0.         0.         0.00738041\n",
            "  0.00738041 0.         0.00738041 0.         0.00738041 0.\n",
            "  0.00738041 0.22141231 0.00738041 0.01249612 0.22141231 0.\n",
            "  0.00738041 0.         0.         0.00738041 0.01249612 0.01249612\n",
            "  0.32489915 0.43736424 0.00738041 0.         0.00738041 0.\n",
            "  0.00738041 0.00738041 0.         0.         0.         0.00738041\n",
            "  0.00738041 0.29990691 0.01249612 0.00738041 0.00738041 0.00738041\n",
            "  0.         0.32489915 0.         0.412372   0.         0.\n",
            "  0.         0.15498862 0.14760821 0.         0.43736424 0.00738041\n",
            "  0.00738041]]\n"
          ]
        }
      ]
    },
    {
      "cell_type": "code",
      "source": [
        "# Create a set to store each document's TF-IDF vectors\n",
        "document_tfidf_sets = []\n",
        "\n",
        "# Iterate over each document and its corresponding TF-IDF vector\n",
        "print(\"\\nTF-IDF using built-in functions:\")\n",
        "for i, doc in enumerate(preprocessed_documents, start=1):\n",
        "    # Print the TF-IDF Vector for the current document\n",
        "    print(f\"\\nTF-IDF Vector for Document {i}:\")\n",
        "\n",
        "    # Create a set to store the TF-IDF vectors for the current document\n",
        "    tfidf_set = set()\n",
        "\n",
        "    # Iterate over each word and its corresponding TF-IDF value\n",
        "    for word_index, word in enumerate(feature_names):\n",
        "        # Access the TF-IDF value from the TF-IDF matrix\n",
        "        tfidf_value = tfidf_matrix[i-1, word_index]\n",
        "\n",
        "        # Check if the TF-IDF value is non-zero\n",
        "        if tfidf_value > 0:\n",
        "            # Add the word and its TF-IDF value to the set\n",
        "            tfidf_set.add((word, tfidf_value))\n",
        "\n",
        "    # Print the TF-IDF vector for the current document\n",
        "    print(tfidf_set)\n",
        "\n",
        "    # Add the TF-IDF set for the current document to the list of document sets\n",
        "    document_tfidf_sets.append(tfidf_set)\n",
        "\n"
      ],
      "metadata": {
        "id": "QHJBwGuBmjjY",
        "outputId": "9d082a90-3680-4d4c-af97-d05811d4537a",
        "colab": {
          "base_uri": "https://localhost:8080/"
        }
      },
      "execution_count": 96,
      "outputs": [
        {
          "output_type": "stream",
          "name": "stdout",
          "text": [
            "\n",
            "TF-IDF using built-in functions:\n",
            "\n",
            "TF-IDF Vector for Document 1:\n",
            "{('hellal', 0.38835128062147467), ('weight', 0.012071922228628204), ('foot', 0.012071922228628204), ('right', 0.015544797833836685), ('value', 0.012071922228628204), ('height', 0.012071922228628204), ('biography', 0.012071922228628204), ('neymar', 0.3474721984507932), ('soccer', 0.2776542112584487), ('current', 0.012071922228628204), ('market', 0.012071922228628204), ('são', 0.020439541085340775), ('nationality', 0.012071922228628204), ('football', 0.3983734335447307), ('brazilian', 0.020439541085340775), ('paulo', 0.020439541085340775), ('profile', 0.012071922228628204), ('128', 0.020439541085340775), ('19870614', 0.020439541085340775), ('brazil', 0.42923036279215626), ('psg', 0.3419855523444071), ('million', 0.012071922228628204), ('barcelona', 0.2020823718398769), ('date', 0.012071922228628204), ('place', 0.012071922228628204), ('75', 0.012071922228628204), ('175', 0.015544797833836685), ('mogi', 0.020439541085340775), ('da', 0.020439541085340775), ('cm', 0.012071922228628204), ('paris', 0.015544797833836685), ('forward', 0.012071922228628204), ('birth', 0.024143844457256407), ('sport', 0.19315075565805126), ('kg', 0.012071922228628204), ('position', 0.012071922228628204), ('goal', 0.21729460011530766), ('saintgermain', 0.015544797833836685), ('player', 0.24143844457256405), ('club', 0.012071922228628204), ('preferred', 0.012071922228628204), ('name', 0.012071922228628204), ('cruzes', 0.020439541085340775)}\n",
            "\n",
            "TF-IDF Vector for Document 2:\n",
            "{('100', 0.017668594351392182), ('height', 0.01043535644996258), ('football', 0.2087071289992516), ('biography', 0.01043535644996258), ('value', 0.01043535644996258), ('player', 0.01043535644996258), ('current', 0.01043535644996258), ('market', 0.01043535644996258), ('paris', 0.013437421420260873), ('argentina', 0.4770520474875889), ('sport', 0.2087071289992516), ('barcelona', 0.30906069266600006), ('nationality', 0.01043535644996258), ('saintgermain', 0.013437421420260873), ('profile', 0.01043535644996258), ('fe', 0.017668594351392182), ('right', 0.013437421420260873), ('soccer', 0.21914248544921416), ('rosario', 0.017668594351392182), ('million', 0.01043535644996258), ('19830517', 0.017668594351392182), ('date', 0.01043535644996258), ('hero', 0.3003661039736671), ('psg', 0.013437421420260873), ('good', 0.33570329267645144), ('santa', 0.017668594351392182), ('messi', 0.2826975096222749), ('argentinian', 0.017668594351392182), ('75', 0.01043535644996258), ('weight', 0.01043535644996258), ('cm', 0.01043535644996258), ('goal', 0.2713192676990271), ('birth', 0.02087071289992516), ('kg', 0.01043535644996258), ('position', 0.01043535644996258), ('forward', 0.01043535644996258), ('best', 0.42404626443341237), ('place', 0.01043535644996258), ('preferred', 0.01043535644996258), ('club', 0.01043535644996258), ('175', 0.013437421420260873), ('name', 0.01043535644996258), ('foot', 0.01043535644996258)}\n",
            "\n",
            "TF-IDF Vector for Document 3:\n",
            "{('madrid', 0.3248991492534859), ('place', 0.007380410438389323), ('preferred', 0.007380410438389323), ('portuguese', 0.012496121125134072), ('football', 0.22141231315167967), ('birth', 0.014760820876778645), ('soccer', 0.15498861920617577), ('club', 0.007380410438389323), ('name', 0.007380410438389323), ('foot', 0.007380410438389323), ('position', 0.007380410438389323), ('weight', 0.007380410438389323), ('sport', 0.14760820876778644), ('height', 0.007380410438389323), ('biography', 0.007380410438389323), ('172', 0.012496121125134072), ('value', 0.007380410438389323), ('player', 0.007380410438389323), ('current', 0.007380410438389323), ('market', 0.007380410438389323), ('goal', 0.22141231315167967), ('nationality', 0.007380410438389323), ('madeira', 0.012496121125134072), ('profile', 0.007380410438389323), ('manchester', 0.4373642393796925), ('million', 0.007380410438389323), ('united', 0.4373642393796925), ('left', 0.012496121125134072), ('date', 0.007380410438389323), ('ronaldo', 0.4123719971294244), ('110', 0.012496121125134072), ('real', 0.3248991492534859), ('75', 0.007380410438389323), ('cm', 0.007380410438389323), ('portugal', 0.2999069070032177), ('funchal', 0.012496121125134072), ('kg', 0.007380410438389323), ('19990711', 0.012496121125134072), ('forward', 0.007380410438389323)}\n"
          ]
        }
      ]
    },
    {
      "cell_type": "code",
      "source": [
        "# Function to calculate term frequency (TF) for a term in a document\n",
        "def term_frequency(term, document):\n",
        "    # Count the occurrences of the term in the document\n",
        "    word_counts = Counter(document.split())\n",
        "    # Calculate the term frequency (TF) as the ratio of term occurrences to total words in the document\n",
        "    tf = word_counts[term] / sum(word_counts.values())\n",
        "    return tf\n"
      ],
      "metadata": {
        "id": "Ar4L7wGSRDhV"
      },
      "execution_count": 97,
      "outputs": []
    },
    {
      "cell_type": "code",
      "source": [
        "# Function to calculate inverse document frequency (IDF) for a term across all documents\n",
        "def inverse_document_frequency(term, documents):\n",
        "    # Count the number of documents that contain the term\n",
        "    num_documents_with_term = sum(1 for document in documents if term in document)\n",
        "    # Calculate the IDF using the logarithm of the ratio of total documents to the number of documents containing the term\n",
        "    return math.log((1 + len(documents)) / (1 + num_documents_with_term)) + 1\n"
      ],
      "metadata": {
        "id": "i1hqmmv1RDd6"
      },
      "execution_count": 98,
      "outputs": []
    },
    {
      "cell_type": "code",
      "source": [
        "# Function to calculate TF-IDF for a term in a document\n",
        "def tfidf(term, document, documents):\n",
        "    # Calculate TF using the term_frequency function\n",
        "    tf = term_frequency(term, document)\n",
        "    # Calculate IDF using the inverse_document_frequency function\n",
        "    idf = inverse_document_frequency(term, documents)\n",
        "    # Calculate TF-IDF score\n",
        "    tfidf_score = tf * idf\n",
        "    return tfidf_score"
      ],
      "metadata": {
        "id": "RbuqccU_NkUE"
      },
      "execution_count": 99,
      "outputs": []
    },
    {
      "cell_type": "code",
      "source": [
        "# Calculate TF-IDF vectors for each document from scratch\n",
        "import math\n",
        "# Initialize an empty list to store TF-IDF vectors for each document\n",
        "tfidf_vectors = []\n",
        "\n",
        "# Iterate through each preprocessed document\n",
        "for doc in preprocessed_documents:\n",
        "    # Initialize an empty dictionary to store TF-IDF scores for terms in the document\n",
        "    document_vector = {}\n",
        "    # Split the document into terms and iterate through each term\n",
        "    for term in doc.split():\n",
        "        # Calculate the TF-IDF score for the term in the current document\n",
        "        score = tfidf(term, doc, preprocessed_documents)\n",
        "        # Add the term and its TF-IDF score to the document vector dictionary\n",
        "        document_vector[term] = score\n",
        "    # Append the document vector dictionary to the list of TF-IDF vectors\n",
        "    tfidf_vectors.append(document_vector)\n",
        "\n",
        "# Print TF-IDF vectors calculated from scratch\n",
        "print(\"\\nTF-IDF from scratch:\")\n",
        "for i, vector in enumerate(tfidf_vectors, start=1):\n",
        "    print(f\"TF-IDF Vector for Document {i}: {vector}\")\n"
      ],
      "metadata": {
        "colab": {
          "base_uri": "https://localhost:8080/"
        },
        "id": "QDwGJIJiNkRF",
        "outputId": "4d3f770f-667d-495b-efb0-22586279d480"
      },
      "execution_count": 100,
      "outputs": [
        {
          "output_type": "stream",
          "name": "stdout",
          "text": [
            "\n",
            "TF-IDF from scratch:\n",
            "TF-IDF Vector for Document 1: {'player': 0.0847457627118644, 'profile': 0.00423728813559322, 'neymar': 0.12196399181999606, 'name': 0.00423728813559322, 'nationality': 0.00423728813559322, 'brazilian': 0.0071743524599997685, 'date': 0.00423728813559322, 'birth': 0.00847457627118644, '19870614': 0.0071743524599997685, 'place': 0.00423728813559322, 'mogi': 0.0071743524599997685, 'da': 0.00423728813559322, 'cruzes': 0.0071743524599997685, 'são': 0.0071743524599997685, 'paulo': 0.0071743524599997685, 'brazil': 0.15066140165999514, 'height': 0.00423728813559322, '175': 0.00545627996801602, 'cm': 0.00423728813559322, 'weight': 0.00423728813559322, '75': 0.00423728813559322, 'kg': 0.00423728813559322, 'current': 0.00423728813559322, 'club': 0.00423728813559322, 'paris': 0.00545627996801602, 'saintgermain': 0.00545627996801602, 'psg': 0.12003815929635245, 'position': 0.00423728813559322, 'forward': 0.00423728813559322, 'preferred': 0.00423728813559322, 'foot': 0.00423728813559322, 'right': 0.00545627996801602, 'market': 0.00423728813559322, 'value': 0.00423728813559322, '128': 0.0071743524599997685, 'million': 0.00423728813559322, 'biography': 0.00423728813559322, 'soccer': 0.09745762711864407, 'football': 0.13983050847457626, 'barcelona': 0.07093163958420826, 'sport': 0.06779661016949153, 'goal': 0.07627118644067797, 'hellal': 0.1363126967399956}\n",
            "TF-IDF Vector for Document 2: {'player': 0.004048582995951417, 'profile': 0.004048582995951417, 'messi': 0.10967755015772926, 'name': 0.004048582995951417, 'nationality': 0.004048582995951417, 'argentinian': 0.006854846884858079, 'date': 0.004048582995951417, 'birth': 0.008097165991902834, '19830517': 0.006854846884858079, 'place': 0.004048582995951417, 'rosario': 0.006854846884858079, 'santa': 0.006854846884858079, 'fe': 0.004048582995951417, 'argentina': 0.18508086589116812, 'height': 0.004048582995951417, '175': 0.00521328774271976, 'cm': 0.004048582995951417, 'weight': 0.004048582995951417, '75': 0.004048582995951417, 'kg': 0.004048582995951417, 'current': 0.004048582995951417, 'club': 0.004048582995951417, 'paris': 0.00521328774271976, 'saintgermain': 0.00521328774271976, 'psg': 0.00521328774271976, 'position': 0.004048582995951417, 'forward': 0.004048582995951417, 'preferred': 0.004048582995951417, 'foot': 0.004048582995951417, 'right': 0.00521328774271976, 'market': 0.004048582995951417, 'value': 0.004048582995951417, '100': 0.006854846884858079, 'million': 0.004048582995951417, 'biography': 0.004048582995951417, 'sport': 0.08097165991902834, 'best': 0.16451632523659387, 'hero': 0.11653239704258733, 'barcelona': 0.1199056180825545, 'football': 0.08097165991902834, 'soccer': 0.08502024291497975, 'good': 0.1302420908123035, 'goal': 0.10526315789473684}\n",
            "TF-IDF Vector for Document 3: {'player': 0.0032258064516129032, 'profile': 0.0032258064516129032, 'ronaldo': 0.18023824825315546, 'name': 0.0032258064516129032, 'nationality': 0.0032258064516129032, 'portuguese': 0.005461765098580469, 'date': 0.0032258064516129032, 'birth': 0.0064516129032258064, '19990711': 0.005461765098580469, 'place': 0.0032258064516129032, 'funchal': 0.005461765098580469, 'madeira': 0.005461765098580469, 'portugal': 0.13108236236593127, 'height': 0.0032258064516129032, '172': 0.005461765098580469, 'cm': 0.0032258064516129032, 'weight': 0.0032258064516129032, '75': 0.0032258064516129032, 'kg': 0.0032258064516129032, 'current': 0.0032258064516129032, 'club': 0.0032258064516129032, 'manchester': 0.1911617784503164, 'united': 0.1911617784503164, 'position': 0.0032258064516129032, 'forward': 0.0032258064516129032, 'preferred': 0.0032258064516129032, 'foot': 0.0032258064516129032, 'left': 0.005461765098580469, 'market': 0.0032258064516129032, 'value': 0.0032258064516129032, '110': 0.005461765098580469, 'million': 0.0032258064516129032, 'biography': 0.0032258064516129032, 'real': 0.1420058925630922, 'madrid': 0.1420058925630922, 'sport': 0.06451612903225806, 'goal': 0.0967741935483871, 'football': 0.0967741935483871, 'soccer': 0.06774193548387097}\n"
          ]
        }
      ]
    },
    {
      "cell_type": "code",
      "source": [
        "# Calculate TF-IDF scores for all terms in all documents\n",
        "tfidf_scores = {}\n",
        "for term in set(term for document in preprocessed_documents for term in document.split()):\n",
        "    tfidf_scores[term] = [tfidf(term, doc, preprocessed_documents) for doc in preprocessed_documents]\n",
        "\n",
        "# Calculate the sum of squares of all TF-IDF scores\n",
        "sum_of_squares = sum(tfidf_score ** 2 for doc_scores in tfidf_scores.values() for tfidf_score in doc_scores)\n",
        "\n",
        "# Normalize TF-IDF scores\n",
        "normalized_tfidf_scores = {}\n",
        "for term, doc_scores in tfidf_scores.items():\n",
        "    normalized_tfidf_scores[term] = [tfidf_score / math.sqrt(sum_of_squares) for tfidf_score in doc_scores]\n",
        "print(normalized_tfidf_scores)"
      ],
      "metadata": {
        "id": "1Bo73_YdNkOO",
        "colab": {
          "base_uri": "https://localhost:8080/"
        },
        "outputId": "f06687a7-4650-46f1-d9af-952f4ba509b0"
      },
      "execution_count": 101,
      "outputs": [
        {
          "output_type": "stream",
          "name": "stdout",
          "text": [
            "{'madrid': [0.0, 0.0, 0.20831595526523713], 'madeira': [0.0, 0.0, 0.008012152125586041], 'portuguese': [0.0, 0.0, 0.008012152125586041], 'portugal': [0.0, 0.0, 0.19229165101406503], 'paulo': [0.010524437114117258, 0.0, 0.0], 'barcelona': [0.10405337406649441, 0.17589589362595195, 0.0], 'current': [0.006215902099330014, 0.005939080548347706, 0.004732106114328656], 'manchester': [0.0, 0.0, 0.2804253243955115], 'place': [0.006215902099330014, 0.005939080548347706, 0.004732106114328656], 'left': [0.0, 0.0, 0.008012152125586041], '172': [0.0, 0.0, 0.008012152125586041], 'brazil': [0.22101317939646245, 0.0, 0.0], 'million': [0.006215902099330014, 0.005939080548347706, 0.004732106114328656], 'argentinian': [0.0, 0.010055737485553332, 0.0], 'paris': [0.008004105697422648, 0.007647647548954433, 0.0], 'ronaldo': [0.0, 0.0, 0.26440102014433936], 'argentina': [0.0, 0.27150491210994, 0.0], 'goal': [0.11188623778794027, 0.15441609425704034, 0.14196318342985967], 'brazilian': [0.010524437114117258, 0.0, 0.0], 'cruzes': [0.010524437114117258, 0.0, 0.0], 'fe': [0.0, 0.005939080548347706, 0.0], 'preferred': [0.006215902099330014, 0.005939080548347706, 0.004732106114328656], '19870614': [0.010524437114117258, 0.0, 0.0], 'mogi': [0.010524437114117258, 0.0, 0.0], 'rosario': [0.0, 0.010055737485553332, 0.0], 'da': [0.006215902099330014, 0.0, 0.0], '75': [0.006215902099330014, 0.005939080548347706, 0.004732106114328656], 'club': [0.006215902099330014, 0.005939080548347706, 0.004732106114328656], 'hellal': [0.1999643051682279, 0.0, 0.0], 'good': [0.0, 0.19105901222551333, 0.0], 'profile': [0.006215902099330014, 0.005939080548347706, 0.004732106114328656], 'cm': [0.006215902099330014, 0.005939080548347706, 0.004732106114328656], '19830517': [0.0, 0.010055737485553332, 0.0], 'position': [0.006215902099330014, 0.005939080548347706, 0.004732106114328656], 'hero': [0.0, 0.17094753725440665, 0.0], '19990711': [0.0, 0.0, 0.008012152125586041], 'psg': [0.17609032534329824, 0.007647647548954433, 0.0], '175': [0.008004105697422648, 0.007647647548954433, 0.0], 'value': [0.006215902099330014, 0.005939080548347706, 0.004732106114328656], 'name': [0.006215902099330014, 0.005939080548347706, 0.004732106114328656], 'birth': [0.012431804198660029, 0.011878161096695412, 0.009464212228657311], 'right': [0.008004105697422648, 0.007647647548954433, 0.0], 'weight': [0.006215902099330014, 0.005939080548347706, 0.004732106114328656], 'market': [0.006215902099330014, 0.005939080548347706, 0.004732106114328656], 'biography': [0.006215902099330014, 0.005939080548347706, 0.004732106114328656], 'são': [0.010524437114117258, 0.0, 0.0], 'best': [0.0, 0.24133769965327997, 0.0], 'united': [0.0, 0.0, 0.2804253243955115], 'nationality': [0.006215902099330014, 0.005939080548347706, 0.004732106114328656], 'height': [0.006215902099330014, 0.005939080548347706, 0.004732106114328656], '128': [0.010524437114117258, 0.0, 0.0], 'sport': [0.09945443358928023, 0.11878161096695412, 0.09464212228657312], 'messi': [0.0, 0.16089179976885332, 0.0], 'neymar': [0.1789154309399934, 0.0, 0.0], 'santa': [0.0, 0.010055737485553332, 0.0], 'forward': [0.006215902099330014, 0.005939080548347706, 0.004732106114328656], 'football': [0.20512476927789045, 0.11878161096695412, 0.14196318342985967], '100': [0.0, 0.010055737485553332, 0.0], 'real': [0.0, 0.0, 0.20831595526523713], 'player': [0.12431804198660028, 0.005939080548347706, 0.004732106114328656], 'kg': [0.006215902099330014, 0.005939080548347706, 0.004732106114328656], 'funchal': [0.0, 0.0, 0.008012152125586041], '110': [0.0, 0.0, 0.008012152125586041], 'saintgermain': [0.008004105697422648, 0.007647647548954433, 0.0], 'soccer': [0.14296574828459033, 0.12472069151530182, 0.09937422840090178], 'date': [0.006215902099330014, 0.005939080548347706, 0.004732106114328656], 'foot': [0.006215902099330014, 0.005939080548347706, 0.004732106114328656]}\n"
          ]
        }
      ]
    }
  ],
  "metadata": {
    "language_info": {
      "name": "python"
    },
    "colab": {
      "provenance": []
    },
    "kernelspec": {
      "name": "python3",
      "display_name": "Python 3"
    }
  },
  "nbformat": 4,
  "nbformat_minor": 0
}